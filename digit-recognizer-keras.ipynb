{
 "cells": [
  {
   "cell_type": "code",
   "execution_count": 1,
   "id": "b7333650",
   "metadata": {
    "execution": {
     "iopub.execute_input": "2022-07-04T15:37:40.698038Z",
     "iopub.status.busy": "2022-07-04T15:37:40.697431Z",
     "iopub.status.idle": "2022-07-04T15:37:55.565365Z",
     "shell.execute_reply": "2022-07-04T15:37:55.563581Z"
    },
    "papermill": {
     "duration": 14.878309,
     "end_time": "2022-07-04T15:37:55.568998",
     "exception": false,
     "start_time": "2022-07-04T15:37:40.690689",
     "status": "completed"
    },
    "tags": []
   },
   "outputs": [
    {
     "name": "stdout",
     "output_type": "stream",
     "text": [
      "Collecting livelossplot\r\n",
      "  Downloading livelossplot-0.5.5-py3-none-any.whl (22 kB)\r\n",
      "Requirement already satisfied: bokeh in /opt/conda/lib/python3.7/site-packages (from livelossplot) (2.4.3)\r\n",
      "Requirement already satisfied: matplotlib in /opt/conda/lib/python3.7/site-packages (from livelossplot) (3.5.2)\r\n",
      "Requirement already satisfied: ipython==7.* in /opt/conda/lib/python3.7/site-packages (from livelossplot) (7.33.0)\r\n",
      "Requirement already satisfied: numpy<1.22 in /opt/conda/lib/python3.7/site-packages (from livelossplot) (1.21.6)\r\n",
      "Requirement already satisfied: jedi>=0.16 in /opt/conda/lib/python3.7/site-packages (from ipython==7.*->livelossplot) (0.18.1)\r\n",
      "Requirement already satisfied: pygments in /opt/conda/lib/python3.7/site-packages (from ipython==7.*->livelossplot) (2.12.0)\r\n",
      "Requirement already satisfied: backcall in /opt/conda/lib/python3.7/site-packages (from ipython==7.*->livelossplot) (0.2.0)\r\n",
      "Requirement already satisfied: prompt-toolkit!=3.0.0,!=3.0.1,<3.1.0,>=2.0.0 in /opt/conda/lib/python3.7/site-packages (from ipython==7.*->livelossplot) (3.0.29)\r\n",
      "Requirement already satisfied: matplotlib-inline in /opt/conda/lib/python3.7/site-packages (from ipython==7.*->livelossplot) (0.1.3)\r\n",
      "Requirement already satisfied: pickleshare in /opt/conda/lib/python3.7/site-packages (from ipython==7.*->livelossplot) (0.7.5)\r\n",
      "Requirement already satisfied: decorator in /opt/conda/lib/python3.7/site-packages (from ipython==7.*->livelossplot) (5.1.1)\r\n",
      "Requirement already satisfied: pexpect>4.3 in /opt/conda/lib/python3.7/site-packages (from ipython==7.*->livelossplot) (4.8.0)\r\n",
      "Requirement already satisfied: traitlets>=4.2 in /opt/conda/lib/python3.7/site-packages (from ipython==7.*->livelossplot) (5.2.1.post0)\r\n",
      "Requirement already satisfied: setuptools>=18.5 in /opt/conda/lib/python3.7/site-packages (from ipython==7.*->livelossplot) (59.8.0)\r\n",
      "Requirement already satisfied: packaging>=16.8 in /opt/conda/lib/python3.7/site-packages (from bokeh->livelossplot) (21.3)\r\n",
      "Requirement already satisfied: typing-extensions>=3.10.0 in /opt/conda/lib/python3.7/site-packages (from bokeh->livelossplot) (4.1.1)\r\n",
      "Requirement already satisfied: tornado>=5.1 in /opt/conda/lib/python3.7/site-packages (from bokeh->livelossplot) (6.1)\r\n",
      "Requirement already satisfied: pillow>=7.1.0 in /opt/conda/lib/python3.7/site-packages (from bokeh->livelossplot) (9.1.1)\r\n",
      "Requirement already satisfied: PyYAML>=3.10 in /opt/conda/lib/python3.7/site-packages (from bokeh->livelossplot) (6.0)\r\n",
      "Requirement already satisfied: Jinja2>=2.9 in /opt/conda/lib/python3.7/site-packages (from bokeh->livelossplot) (3.1.2)\r\n",
      "Requirement already satisfied: cycler>=0.10 in /opt/conda/lib/python3.7/site-packages (from matplotlib->livelossplot) (0.11.0)\r\n",
      "Requirement already satisfied: fonttools>=4.22.0 in /opt/conda/lib/python3.7/site-packages (from matplotlib->livelossplot) (4.33.3)\r\n",
      "Requirement already satisfied: python-dateutil>=2.7 in /opt/conda/lib/python3.7/site-packages (from matplotlib->livelossplot) (2.8.2)\r\n",
      "Requirement already satisfied: pyparsing>=2.2.1 in /opt/conda/lib/python3.7/site-packages (from matplotlib->livelossplot) (3.0.9)\r\n",
      "Requirement already satisfied: kiwisolver>=1.0.1 in /opt/conda/lib/python3.7/site-packages (from matplotlib->livelossplot) (1.4.2)\r\n",
      "Requirement already satisfied: parso<0.9.0,>=0.8.0 in /opt/conda/lib/python3.7/site-packages (from jedi>=0.16->ipython==7.*->livelossplot) (0.8.3)\r\n",
      "Requirement already satisfied: MarkupSafe>=2.0 in /opt/conda/lib/python3.7/site-packages (from Jinja2>=2.9->bokeh->livelossplot) (2.0.1)\r\n",
      "Requirement already satisfied: ptyprocess>=0.5 in /opt/conda/lib/python3.7/site-packages (from pexpect>4.3->ipython==7.*->livelossplot) (0.7.0)\r\n",
      "Requirement already satisfied: wcwidth in /opt/conda/lib/python3.7/site-packages (from prompt-toolkit!=3.0.0,!=3.0.1,<3.1.0,>=2.0.0->ipython==7.*->livelossplot) (0.2.5)\r\n",
      "Requirement already satisfied: six>=1.5 in /opt/conda/lib/python3.7/site-packages (from python-dateutil>=2.7->matplotlib->livelossplot) (1.16.0)\r\n",
      "Installing collected packages: livelossplot\r\n",
      "Successfully installed livelossplot-0.5.5\r\n",
      "\u001b[33mWARNING: Running pip as the 'root' user can result in broken permissions and conflicting behaviour with the system package manager. It is recommended to use a virtual environment instead: https://pip.pypa.io/warnings/venv\u001b[0m\u001b[33m\r\n",
      "\u001b[0m"
     ]
    }
   ],
   "source": [
    "!pip install livelossplot"
   ]
  },
  {
   "cell_type": "code",
   "execution_count": 2,
   "id": "b8d78237",
   "metadata": {
    "execution": {
     "iopub.execute_input": "2022-07-04T15:37:55.580651Z",
     "iopub.status.busy": "2022-07-04T15:37:55.580228Z",
     "iopub.status.idle": "2022-07-04T15:38:04.253900Z",
     "shell.execute_reply": "2022-07-04T15:38:04.252690Z"
    },
    "papermill": {
     "duration": 8.683121,
     "end_time": "2022-07-04T15:38:04.257117",
     "exception": false,
     "start_time": "2022-07-04T15:37:55.573996",
     "status": "completed"
    },
    "tags": []
   },
   "outputs": [],
   "source": [
    "import pandas as pd\n",
    "import numpy as np\n",
    "import matplotlib.pyplot as plt\n",
    "%matplotlib inline\n",
    "from sklearn.model_selection import train_test_split\n",
    "from keras.utils.np_utils import to_categorical\n",
    "from keras.models import Sequential\n",
    "from keras.layers import Dense, Dropout, Flatten, Conv2D, MaxPool2D\n",
    "from tensorflow.keras.optimizers import RMSprop\n",
    "from keras.preprocessing.image import ImageDataGenerator\n",
    "from keras.callbacks import ReduceLROnPlateau, CSVLogger\n",
    "from livelossplot import PlotLossesKeras"
   ]
  },
  {
   "cell_type": "code",
   "execution_count": 3,
   "id": "ebd0cb76",
   "metadata": {
    "_cell_guid": "b1076dfc-b9ad-4769-8c92-a6c4dae69d19",
    "_uuid": "8f2839f25d086af736a60e9eeb907d3b93b6e0e5",
    "execution": {
     "iopub.execute_input": "2022-07-04T15:38:04.269263Z",
     "iopub.status.busy": "2022-07-04T15:38:04.268496Z",
     "iopub.status.idle": "2022-07-04T15:38:10.173095Z",
     "shell.execute_reply": "2022-07-04T15:38:10.171957Z"
    },
    "papermill": {
     "duration": 5.914316,
     "end_time": "2022-07-04T15:38:10.176175",
     "exception": false,
     "start_time": "2022-07-04T15:38:04.261859",
     "status": "completed"
    },
    "tags": []
   },
   "outputs": [],
   "source": [
    "#loading data\n",
    "train = pd.read_csv('../input/digit-recognizer/train.csv')\n",
    "test = pd.read_csv('../input/digit-recognizer/test.csv')\n",
    "\n",
    "\n",
    "y=train[\"label\"];\n",
    "x = train.drop(labels=[\"label\"],axis=1)\n",
    "\n",
    "# reshaping data\n",
    "y = train[\"label\"]\n",
    "x = train.drop(labels = [\"label\"], axis = 1) \n",
    "\n",
    "# Reshape data\n",
    "x = x.values.reshape(-1, 28, 28, 1)\n",
    "test = test.values.reshape(-1, 28, 28, 1)\n",
    "\n",
    "# One-Hot encoding\n",
    "y = to_categorical(y, num_classes=10)\n",
    "\n"
   ]
  },
  {
   "cell_type": "code",
   "execution_count": 4,
   "id": "a773d1f3",
   "metadata": {
    "execution": {
     "iopub.execute_input": "2022-07-04T15:38:10.188192Z",
     "iopub.status.busy": "2022-07-04T15:38:10.186957Z",
     "iopub.status.idle": "2022-07-04T15:38:10.609185Z",
     "shell.execute_reply": "2022-07-04T15:38:10.607598Z"
    },
    "papermill": {
     "duration": 0.431827,
     "end_time": "2022-07-04T15:38:10.612559",
     "exception": false,
     "start_time": "2022-07-04T15:38:10.180732",
     "status": "completed"
    },
    "tags": []
   },
   "outputs": [],
   "source": [
    "# Prepare training/validation sets\n",
    "x_training, x_validation, y_training, y_validation = train_test_split(\n",
    "    x,\n",
    "    y,\n",
    "    test_size=0.1,\n",
    "    shuffle=True\n",
    ")"
   ]
  },
  {
   "cell_type": "code",
   "execution_count": 5,
   "id": "39a154f9",
   "metadata": {
    "execution": {
     "iopub.execute_input": "2022-07-04T15:38:10.623776Z",
     "iopub.status.busy": "2022-07-04T15:38:10.623399Z",
     "iopub.status.idle": "2022-07-04T15:38:13.996703Z",
     "shell.execute_reply": "2022-07-04T15:38:13.995534Z"
    },
    "papermill": {
     "duration": 3.382946,
     "end_time": "2022-07-04T15:38:14.000219",
     "exception": false,
     "start_time": "2022-07-04T15:38:10.617273",
     "status": "completed"
    },
    "tags": []
   },
   "outputs": [
    {
     "name": "stderr",
     "output_type": "stream",
     "text": [
      "2022-07-04 15:38:10.738108: I tensorflow/stream_executor/cuda/cuda_gpu_executor.cc:937] successful NUMA node read from SysFS had negative value (-1), but there must be at least one NUMA node, so returning NUMA node zero\n",
      "2022-07-04 15:38:10.865694: I tensorflow/stream_executor/cuda/cuda_gpu_executor.cc:937] successful NUMA node read from SysFS had negative value (-1), but there must be at least one NUMA node, so returning NUMA node zero\n",
      "2022-07-04 15:38:10.866721: I tensorflow/stream_executor/cuda/cuda_gpu_executor.cc:937] successful NUMA node read from SysFS had negative value (-1), but there must be at least one NUMA node, so returning NUMA node zero\n",
      "2022-07-04 15:38:10.868827: I tensorflow/core/platform/cpu_feature_guard.cc:142] This TensorFlow binary is optimized with oneAPI Deep Neural Network Library (oneDNN) to use the following CPU instructions in performance-critical operations:  AVX2 AVX512F FMA\n",
      "To enable them in other operations, rebuild TensorFlow with the appropriate compiler flags.\n",
      "2022-07-04 15:38:10.869346: I tensorflow/stream_executor/cuda/cuda_gpu_executor.cc:937] successful NUMA node read from SysFS had negative value (-1), but there must be at least one NUMA node, so returning NUMA node zero\n",
      "2022-07-04 15:38:10.870593: I tensorflow/stream_executor/cuda/cuda_gpu_executor.cc:937] successful NUMA node read from SysFS had negative value (-1), but there must be at least one NUMA node, so returning NUMA node zero\n",
      "2022-07-04 15:38:10.871689: I tensorflow/stream_executor/cuda/cuda_gpu_executor.cc:937] successful NUMA node read from SysFS had negative value (-1), but there must be at least one NUMA node, so returning NUMA node zero\n",
      "2022-07-04 15:38:13.390149: I tensorflow/stream_executor/cuda/cuda_gpu_executor.cc:937] successful NUMA node read from SysFS had negative value (-1), but there must be at least one NUMA node, so returning NUMA node zero\n",
      "2022-07-04 15:38:13.391568: I tensorflow/stream_executor/cuda/cuda_gpu_executor.cc:937] successful NUMA node read from SysFS had negative value (-1), but there must be at least one NUMA node, so returning NUMA node zero\n",
      "2022-07-04 15:38:13.392803: I tensorflow/stream_executor/cuda/cuda_gpu_executor.cc:937] successful NUMA node read from SysFS had negative value (-1), but there must be at least one NUMA node, so returning NUMA node zero\n",
      "2022-07-04 15:38:13.393899: I tensorflow/core/common_runtime/gpu/gpu_device.cc:1510] Created device /job:localhost/replica:0/task:0/device:GPU:0 with 15403 MB memory:  -> device: 0, name: Tesla P100-PCIE-16GB, pci bus id: 0000:00:04.0, compute capability: 6.0\n"
     ]
    }
   ],
   "source": [
    "model = Sequential()\n",
    "\n",
    "model.add(Conv2D(\n",
    "    filters=32,\n",
    "    kernel_size=(5,5),\n",
    "    padding=\"Same\",\n",
    "    activation=\"relu\",\n",
    "    input_shape=(28,28,1)\n",
    "    \n",
    "))\n",
    "\n",
    "model.add(Conv2D(\n",
    "    filters=32,\n",
    "    kernel_size=(5,5),\n",
    "    padding=\"Same\",\n",
    "    activation=\"relu\",\n",
    "\n",
    "    \n",
    "))\n",
    "\n",
    "model.add(MaxPool2D(pool_size=(2,2)))\n",
    "model.add(Dropout(.5))\n",
    "\n",
    "model.add(Conv2D(\n",
    "    filters=64,\n",
    "    kernel_size=(3,3),\n",
    "    padding=\"Same\",\n",
    "    activation=\"relu\",\n",
    "\n",
    "    \n",
    "))\n",
    "\n",
    "model.add(Conv2D(\n",
    "    filters=64,\n",
    "    kernel_size=(3,3),\n",
    "    padding=\"Same\",\n",
    "    activation=\"relu\",\n",
    "\n",
    "    \n",
    "))\n",
    "\n",
    "model.add(MaxPool2D(pool_size=(2,2), strides=(2,2)))\n",
    "model.add(Dropout(.5))\n",
    "\n",
    "model.add(Flatten())\n",
    "model.add(Dense(8192,activation='relu'))\n",
    "model.add(Dropout(.5))\n",
    "\n",
    "model.add(Dense(2042,activation='relu'))\n",
    "model.add(Dropout(.5))\n",
    "\n",
    "\n",
    "model.add(Dense(10,activation=\"softmax\"))\n",
    "\n",
    "\n",
    "model.compile(optimizer=RMSprop(learning_rate=0.0001,\n",
    "                                rho=0.9,\n",
    "                                epsilon=1e-08,\n",
    "                                decay=0.00001),\n",
    "             loss=\"categorical_crossentropy\",metrics=[\"accuracy\"])\n",
    "\n",
    "\n",
    "with open(\"model_summary.txt\",\"w\") as fh:\n",
    "    model.summary(print_fn=lambda line: fh.write(line + \"\\n\"))\n"
   ]
  },
  {
   "cell_type": "code",
   "execution_count": 6,
   "id": "07d1595c",
   "metadata": {
    "execution": {
     "iopub.execute_input": "2022-07-04T15:38:14.013614Z",
     "iopub.status.busy": "2022-07-04T15:38:14.012885Z",
     "iopub.status.idle": "2022-07-04T15:38:14.023324Z",
     "shell.execute_reply": "2022-07-04T15:38:14.021046Z"
    },
    "papermill": {
     "duration": 0.020132,
     "end_time": "2022-07-04T15:38:14.026045",
     "exception": false,
     "start_time": "2022-07-04T15:38:14.005913",
     "status": "completed"
    },
    "tags": []
   },
   "outputs": [
    {
     "name": "stdout",
     "output_type": "stream",
     "text": [
      "Model: \"sequential\"\n",
      "_________________________________________________________________\n",
      "Layer (type)                 Output Shape              Param #   \n",
      "=================================================================\n",
      "conv2d (Conv2D)              (None, 28, 28, 32)        832       \n",
      "_________________________________________________________________\n",
      "conv2d_1 (Conv2D)            (None, 28, 28, 32)        25632     \n",
      "_________________________________________________________________\n",
      "max_pooling2d (MaxPooling2D) (None, 14, 14, 32)        0         \n",
      "_________________________________________________________________\n",
      "dropout (Dropout)            (None, 14, 14, 32)        0         \n",
      "_________________________________________________________________\n",
      "conv2d_2 (Conv2D)            (None, 14, 14, 64)        18496     \n",
      "_________________________________________________________________\n",
      "conv2d_3 (Conv2D)            (None, 14, 14, 64)        36928     \n",
      "_________________________________________________________________\n",
      "max_pooling2d_1 (MaxPooling2 (None, 7, 7, 64)          0         \n",
      "_________________________________________________________________\n",
      "dropout_1 (Dropout)          (None, 7, 7, 64)          0         \n",
      "_________________________________________________________________\n",
      "flatten (Flatten)            (None, 3136)              0         \n",
      "_________________________________________________________________\n",
      "dense (Dense)                (None, 8192)              25698304  \n",
      "_________________________________________________________________\n",
      "dropout_2 (Dropout)          (None, 8192)              0         \n",
      "_________________________________________________________________\n",
      "dense_1 (Dense)              (None, 2042)              16730106  \n",
      "_________________________________________________________________\n",
      "dropout_3 (Dropout)          (None, 2042)              0         \n",
      "_________________________________________________________________\n",
      "dense_2 (Dense)              (None, 10)                20430     \n",
      "=================================================================\n",
      "Total params: 42,530,728\n",
      "Trainable params: 42,530,728\n",
      "Non-trainable params: 0\n",
      "_________________________________________________________________\n"
     ]
    }
   ],
   "source": [
    "model.summary()"
   ]
  },
  {
   "cell_type": "code",
   "execution_count": 7,
   "id": "2578521a",
   "metadata": {
    "execution": {
     "iopub.execute_input": "2022-07-04T15:38:14.036533Z",
     "iopub.status.busy": "2022-07-04T15:38:14.036188Z",
     "iopub.status.idle": "2022-07-04T15:38:14.160000Z",
     "shell.execute_reply": "2022-07-04T15:38:14.158878Z"
    },
    "papermill": {
     "duration": 0.132325,
     "end_time": "2022-07-04T15:38:14.162760",
     "exception": false,
     "start_time": "2022-07-04T15:38:14.030435",
     "status": "completed"
    },
    "tags": []
   },
   "outputs": [],
   "source": [
    "#data aumentaion\n",
    "data_generator = ImageDataGenerator(rescale=1./255,\n",
    "                                    rotation_range=1,\n",
    "                                    zoom_range=0.1, \n",
    "                                    width_shift_range=0.05,\n",
    "                                    height_shift_range=0.05)\n",
    "data_generator.fit(x_training)\n",
    "\n"
   ]
  },
  {
   "cell_type": "code",
   "execution_count": 8,
   "id": "5799c83c",
   "metadata": {
    "execution": {
     "iopub.execute_input": "2022-07-04T15:38:14.174823Z",
     "iopub.status.busy": "2022-07-04T15:38:14.174441Z",
     "iopub.status.idle": "2022-07-04T16:07:18.042793Z",
     "shell.execute_reply": "2022-07-04T16:07:18.041770Z"
    },
    "papermill": {
     "duration": 1743.877642,
     "end_time": "2022-07-04T16:07:18.045470",
     "exception": false,
     "start_time": "2022-07-04T15:38:14.167828",
     "status": "completed"
    },
    "tags": []
   },
   "outputs": [
    {
     "data": {
      "image/png": "[encoded data removed]",
      "text/plain": [
       "<Figure size 864x576 with 2 Axes>"
      ]
     },
     "metadata": {
      "needs_background": "light"
     },
     "output_type": "display_data"
    },
    {
     "name": "stdout",
     "output_type": "stream",
     "text": [
      "accuracy\n",
      "\ttraining         \t (min:    0.583, max:    0.995, cur:    0.994)\n",
      "\tvalidation       \t (min:    0.856, max:    0.994, cur:    0.991)\n",
      "Loss\n",
      "\ttraining         \t (min:    0.016, max:    1.220, cur:    0.018)\n",
      "\tvalidation       \t (min:    3.692, max:   45.698, cur:    4.735)\n"
     ]
    }
   ],
   "source": [
    "# Training\n",
    "history = model.fit_generator(data_generator.flow(x_training,\n",
    "                                                  y_training,\n",
    "                                                  batch_size=512),\n",
    "                              epochs=100,\n",
    "                              validation_data=(x_validation, y_validation),\n",
    "                              verbose=1,\n",
    "                              steps_per_epoch=x_training.shape[0] // 512,\n",
    "                              callbacks=[PlotLossesKeras(),\n",
    "                                         CSVLogger(\"training_logs.csv\",\n",
    "                                                   append=False,\n",
    "                                                   separator=\";\")])\n",
    "model.save_weights(\"model.h5\")"
   ]
  },
  {
   "cell_type": "code",
   "execution_count": 9,
   "id": "786b6ef0",
   "metadata": {
    "execution": {
     "iopub.execute_input": "2022-07-04T16:07:18.058240Z",
     "iopub.status.busy": "2022-07-04T16:07:18.057141Z",
     "iopub.status.idle": "2022-07-04T16:07:19.925929Z",
     "shell.execute_reply": "2022-07-04T16:07:19.924830Z"
    },
    "papermill": {
     "duration": 1.878146,
     "end_time": "2022-07-04T16:07:19.928783",
     "exception": false,
     "start_time": "2022-07-04T16:07:18.050637",
     "status": "completed"
    },
    "tags": []
   },
   "outputs": [],
   "source": [
    "# Testing\n",
    "#predictions = model.predict_classes(test, verbose=1)\n",
    "predict_x=model.predict(test)\n",
    "classes_x=np.argmax(predict_x,axis=1)\n",
    "\n",
    "pd.DataFrame({\"ImageId\":list(range(1,len(classes_x)+1)),\n",
    "              \"Label\":classes_x}).to_csv(\"kaggle_submission.csv\",\n",
    "                                         index=False,\n",
    "                                          header=True)"
   ]
  },
  {
   "cell_type": "code",
   "execution_count": 10,
   "id": "188239ed",
   "metadata": {
    "execution": {
     "iopub.execute_input": "2022-07-04T16:07:19.940494Z",
     "iopub.status.busy": "2022-07-04T16:07:19.939853Z",
     "iopub.status.idle": "2022-07-04T16:07:19.947455Z",
     "shell.execute_reply": "2022-07-04T16:07:19.946390Z"
    },
    "papermill": {
     "duration": 0.017393,
     "end_time": "2022-07-04T16:07:19.951186",
     "exception": false,
     "start_time": "2022-07-04T16:07:19.933793",
     "status": "completed"
    },
    "tags": []
   },
   "outputs": [
    {
     "data": {
      "text/html": [
       "<a href='kaggle_submission.csv' target='_blank'>kaggle_submission.csv</a><br>"
      ],
      "text/plain": [
       "/kaggle/working/kaggle_submission.csv"
      ]
     },
     "execution_count": 10,
     "metadata": {},
     "output_type": "execute_result"
    }
   ],
   "source": [
    "import os\n",
    "os.chdir(r'/kaggle/working')\n",
    "\n",
    "from IPython.display import FileLink\n",
    "FileLink(r'kaggle_submission.csv')"
   ]
  }
 ],
 "metadata": {
  "kernelspec": {
   "display_name": "Python 3",
   "language": "python",
   "name": "python3"
  },
  "language_info": {
   "codemirror_mode": {
    "name": "ipython",
    "version": 3
   },
   "file_extension": ".py",
   "mimetype": "text/x-python",
   "name": "python",
   "nbconvert_exporter": "python",
   "pygments_lexer": "ipython3",
   "version": "3.7.12"
  },
  "papermill": {
   "default_parameters": {},
   "duration": 1792.72214,
   "end_time": "2022-07-04T16:07:23.073731",
   "environment_variables": {},
   "exception": null,
   "input_path": "__notebook__.ipynb",
   "output_path": "__notebook__.ipynb",
   "parameters": {},
   "start_time": "2022-07-04T15:37:30.351591",
   "version": "2.3.4"
  }
 },
 "nbformat": 4,
 "nbformat_minor": 5
}
